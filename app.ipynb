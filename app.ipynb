# Configurar o ambiente
!git clone https://github.com/ultralytics/yolov5  # Clonar YOLOv5

%cd yolov5

!pip install -r requirements.txt  # Instalar dependências

# Configurar o Google Drive para salvar resultados (opcional)
from google.colab import drive

drive.mount('/content/drive')

# Download da base COCO e pré-processamento
!curl -L "http://images.cocodataset.org/zips/val2017.zip" > val2017.zip

!unzip -q val2017.zip -d ./datasets/COCO/

# Separar classes específicas para treinamento (use supervisely ou label-studio para rotular novos dados, se necessário)
import yaml

# Criar um arquivo de configuração para o dataset
data_config = {
    'train': './datasets/COCO/train2017',
    'val': './datasets/COCO/val2017',
    'nc': 2,  # Número de classes novas
    'names': ['nova_classe_1', 'nova_classe_2']  # Substitua pelos nomes reais das classes
}

with open('data/coco_custom.yaml', 'w') as f:
    yaml.dump(data_config, f)

# Baixar os pesos pré-treinados para transfer learning
!wget https://github.com/ultralytics/yolov5/releases/download/v6.0/yolov5s.pt -O yolov5s.pt

# Treinamento do modelo
!python train.py \
    --img 640 \  # Tamanho das imagens
    --batch 16 \  # Tamanho do batch
    --epochs 50 \  # Número de épocas
    --data data/coco_custom.yaml \  # Arquivo de configuração
    --weights yolov5s.pt  # Pesos pré-treinados

# Avaliação do modelo
!python val.py --data data/coco_custom.yaml --weights runs/train/exp/weights/best.pt

# Fazer previsões com o modelo treinado
from IPython.display import Image
!python detect.py --weights runs/train/exp/weights/best.pt --img 640 --conf 0.5 --source ./datasets/COCO/val2017

# Exibir as previsões
Image(filename='runs/detect/exp/sample.jpg')  # Substitua por uma imagem do diretório de saída
```
